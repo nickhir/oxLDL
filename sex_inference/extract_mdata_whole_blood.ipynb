{
 "cells": [
  {
   "cell_type": "markdown",
   "metadata": {},
   "source": [
    "### Extracting metadata from the ARCHS4 data\n",
    "The authors provide a nice python package for this, so we will use it"
   ]
  },
  {
   "cell_type": "code",
   "execution_count": 1,
   "metadata": {},
   "outputs": [],
   "source": [
    "import archs4py as a4\n",
    "import numpy as np\n",
    "import pandas as pd\n",
    "import re"
   ]
  },
  {
   "cell_type": "code",
   "execution_count": 2,
   "metadata": {},
   "outputs": [],
   "source": [
    "# path to file\n",
    "file = \"/rds/project/jmmh2/rds-jmmh2-public_databases/ARCHS4/human_gene_v2.3.h5\""
   ]
  },
  {
   "cell_type": "code",
   "execution_count": 3,
   "metadata": {},
   "outputs": [
    {
     "name": "stderr",
     "output_type": "stream",
     "text": [
      "100%|██████████| 2/2 [00:00<00:00,  2.52it/s]\n",
      "/tmp/ipykernel_3544235/1364379283.py:7: UserWarning: This pattern is interpreted as a regular expression, and has match groups. To actually get the groups, use str.extract.\n",
      "  macrophage_data[\"characteristics_ch1\"].str.contains(pattern, na=False)\n"
     ]
    }
   ],
   "source": [
    "# extract all samples that have \"macrophage\" and \"sex\" somewhere in their characteristics field\n",
    "macrophage_data = a4.meta.meta(\n",
    "    file, \"whole blood\", meta_fields=[\"series_id\", \"characteristics_ch1\"]\n",
    ")\n",
    "# make sure that there is information about the sex in the data\n",
    "pattern = re.compile(r\"(?i)\\b(sex)\\b\")\n",
    "macrophage_data = macrophage_data[\n",
    "    macrophage_data[\"characteristics_ch1\"].str.contains(pattern, na=False)\n",
    "]"
   ]
  },
  {
   "cell_type": "code",
   "execution_count": 4,
   "metadata": {},
   "outputs": [
    {
     "name": "stderr",
     "output_type": "stream",
     "text": [
      "100%|██████████| 6429/6429 [00:41<00:00, 154.59it/s]\n"
     ]
    }
   ],
   "source": [
    "# extract the counts for the above samples\n",
    "sample_counts = a4.data.samples(file, macrophage_data.index.to_list())"
   ]
  },
  {
   "cell_type": "code",
   "execution_count": 6,
   "metadata": {},
   "outputs": [],
   "source": [
    "# filter the counts a bit. will will probably end up using like 10 genes only anyway\n",
    "sample_counts = sample_counts[~sample_counts.index.str.contains(\"ENSG000\")]\n",
    "sample_counts = sample_counts.loc[(sample_counts.sum(axis=1) > 100), :]\n",
    "sample_counts = sample_counts.loc[sample_counts.mean(axis=1) > 10, :]"
   ]
  },
  {
   "cell_type": "code",
   "execution_count": 8,
   "metadata": {},
   "outputs": [],
   "source": [
    "# extract the actual sex from the metadata\n",
    "pattern = r\"SEX: (?P<SEX>[^,]+)\"\n",
    "\n",
    "# Apply the regex to the 'characterisbtics_ch1' column\n",
    "\n",
    "macrophage_data[\"sex\"] = macrophage_data[\"characteristics_ch1\"].str.extract(pattern)\n",
    "macrophage_data = macrophage_data.loc[:, [\"series_id\", \"sex\"]]"
   ]
  },
  {
   "cell_type": "code",
   "execution_count": 11,
   "metadata": {},
   "outputs": [],
   "source": [
    "macrophage_data[\"sampleID\"] = macrophage_data.index\n",
    "sample_counts[\"gene\"] = sample_counts.index\n",
    "\n",
    "# save to disk\n",
    "macrophage_data.to_csv(\n",
    "    \"/rds/user/nh608/hpc-work/oxLDL/sex_inference/mdata_whole_blood.tsv\",\n",
    "    sep=\"\\t\",\n",
    "    index=False,\n",
    ")\n",
    "sample_counts.to_csv(\n",
    "    \"/rds/user/nh608/hpc-work/oxLDL/sex_inference/counts_whole_blood.tsv.gz\",\n",
    "    sep=\"\\t\",\n",
    "    index=False,\n",
    ")"
   ]
  }
 ],
 "metadata": {
  "kernelspec": {
   "display_name": "Python 3",
   "language": "python",
   "name": "python3"
  },
  "language_info": {
   "codemirror_mode": {
    "name": "ipython",
    "version": 3
   },
   "file_extension": ".py",
   "mimetype": "text/x-python",
   "name": "python",
   "nbconvert_exporter": "python",
   "pygments_lexer": "ipython3",
   "version": "3.11.9"
  }
 },
 "nbformat": 4,
 "nbformat_minor": 2
}
