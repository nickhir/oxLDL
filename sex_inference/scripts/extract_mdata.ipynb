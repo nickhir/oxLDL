{
 "cells": [
  {
   "cell_type": "markdown",
   "metadata": {},
   "source": [
    "### Extracting metadata from the ARCHS4 data\n",
    "The authors provide a nice python package for this, so we will use it"
   ]
  },
  {
   "cell_type": "code",
   "execution_count": 1,
   "metadata": {},
   "outputs": [],
   "source": [
    "import archs4py as a4\n",
    "import numpy as np\n",
    "import pandas as pd\n",
    "import re"
   ]
  },
  {
   "cell_type": "code",
   "execution_count": 2,
   "metadata": {},
   "outputs": [],
   "source": [
    "# path to file\n",
    "file = \"/rds/project/jmmh2/rds-jmmh2-public_databases/ARCHS4/human_gene_v2.3.h5\""
   ]
  },
  {
   "cell_type": "code",
   "execution_count": 10,
   "metadata": {},
   "outputs": [
    {
     "name": "stderr",
     "output_type": "stream",
     "text": [
      "100%|██████████| 2/2 [00:00<00:00,  2.35it/s]\n",
      "/tmp/ipykernel_2974129/580311928.py:5: UserWarning: This pattern is interpreted as a regular expression, and has match groups. To actually get the groups, use str.extract.\n",
      "  macrophage_data[\"characteristics_ch1\"].str.contains(pattern, na=False)\n"
     ]
    }
   ],
   "source": [
    "# extract all samples that have \"macrophage\" and \"sex\" somewhere in their characteristics field\n",
    "macrophage_data = a4.meta.meta(\n",
    "    file, \"macrophage\", meta_fields=[\"series_id\", \"characteristics_ch1\"]\n",
    ")\n",
    "pattern = re.compile(r\"(?i)\\b(sex)\\b\")\n",
    "macrophage_data = macrophage_data[\n",
    "    macrophage_data[\"characteristics_ch1\"].str.contains(pattern, na=False)\n",
    "]"
   ]
  },
  {
   "cell_type": "code",
   "execution_count": 3,
   "metadata": {},
   "outputs": [
    {
     "name": "stderr",
     "output_type": "stream",
     "text": [
      "100%|██████████| 2/2 [00:00<00:00,  2.54it/s]\n"
     ]
    }
   ],
   "source": [
    "macrophage_data = a4.meta.meta(\n",
    "    file, \"macrophage\", meta_fields=[\"series_id\", \"characteristics_ch1\"]\n",
    ")"
   ]
  },
  {
   "cell_type": "code",
   "execution_count": 6,
   "metadata": {},
   "outputs": [
    {
     "name": "stderr",
     "output_type": "stream",
     "text": [
      "/tmp/ipykernel_3538783/498833988.py:3: UserWarning: This pattern is interpreted as a regular expression, and has match groups. To actually get the groups, use str.extract.\n",
      "  macrophage_data[\"characteristics_ch1\"].str.contains(pattern, na=False)\n"
     ]
    }
   ],
   "source": [
    "pattern = re.compile(r\"(?i)\\b(sex)\\b\")\n",
    "macrophage_data = macrophage_data[\n",
    "    macrophage_data[\"characteristics_ch1\"].str.contains(pattern, na=False)\n",
    "]"
   ]
  },
  {
   "cell_type": "code",
   "execution_count": 14,
   "metadata": {},
   "outputs": [
    {
     "name": "stderr",
     "output_type": "stream",
     "text": [
      "100%|██████████| 1128/1128 [00:14<00:00, 76.19it/s]\n"
     ]
    }
   ],
   "source": [
    "# extract the counts for the above samples\n",
    "sample_counts = a4.data.samples(file, macrophage_data.index.to_list())"
   ]
  },
  {
   "cell_type": "code",
   "execution_count": 15,
   "metadata": {},
   "outputs": [],
   "source": [
    "# filter the counts a bit. will will probably end up using like 10 genes only anyway\n",
    "sample_counts = sample_counts[~sample_counts.index.str.contains(\"ENSG000\")]\n",
    "sample_counts = sample_counts.loc[(sample_counts.sum(axis=1) > 100), :]\n",
    "sample_counts = sample_counts.loc[sample_counts.mean(axis=1) > 10, :]"
   ]
  },
  {
   "cell_type": "code",
   "execution_count": 17,
   "metadata": {},
   "outputs": [
    {
     "data": {
      "text/html": [
       "<div>\n",
       "<style scoped>\n",
       "    .dataframe tbody tr th:only-of-type {\n",
       "        vertical-align: middle;\n",
       "    }\n",
       "\n",
       "    .dataframe tbody tr th {\n",
       "        vertical-align: top;\n",
       "    }\n",
       "\n",
       "    .dataframe thead th {\n",
       "        text-align: right;\n",
       "    }\n",
       "</style>\n",
       "<table border=\"1\" class=\"dataframe\">\n",
       "  <thead>\n",
       "    <tr style=\"text-align: right;\">\n",
       "      <th></th>\n",
       "      <th>SEX</th>\n",
       "    </tr>\n",
       "  </thead>\n",
       "  <tbody>\n",
       "    <tr>\n",
       "      <th>GSM2097611</th>\n",
       "      <td>MALE</td>\n",
       "    </tr>\n",
       "    <tr>\n",
       "      <th>GSM2097612</th>\n",
       "      <td>FEMALE</td>\n",
       "    </tr>\n",
       "    <tr>\n",
       "      <th>GSM2097613</th>\n",
       "      <td>FEMALE</td>\n",
       "    </tr>\n",
       "    <tr>\n",
       "      <th>GSM2097614</th>\n",
       "      <td>MALE</td>\n",
       "    </tr>\n",
       "    <tr>\n",
       "      <th>GSM2097615</th>\n",
       "      <td>MALE</td>\n",
       "    </tr>\n",
       "    <tr>\n",
       "      <th>...</th>\n",
       "      <td>...</td>\n",
       "    </tr>\n",
       "    <tr>\n",
       "      <th>GSM7592798</th>\n",
       "      <td>M</td>\n",
       "    </tr>\n",
       "    <tr>\n",
       "      <th>GSM7592799</th>\n",
       "      <td>M</td>\n",
       "    </tr>\n",
       "    <tr>\n",
       "      <th>GSM7592801</th>\n",
       "      <td>F</td>\n",
       "    </tr>\n",
       "    <tr>\n",
       "      <th>GSM7592802</th>\n",
       "      <td>M</td>\n",
       "    </tr>\n",
       "    <tr>\n",
       "      <th>GSM7592803</th>\n",
       "      <td>M</td>\n",
       "    </tr>\n",
       "  </tbody>\n",
       "</table>\n",
       "<p>1128 rows × 1 columns</p>\n",
       "</div>"
      ],
      "text/plain": [
       "               SEX\n",
       "GSM2097611    MALE\n",
       "GSM2097612  FEMALE\n",
       "GSM2097613  FEMALE\n",
       "GSM2097614    MALE\n",
       "GSM2097615    MALE\n",
       "...            ...\n",
       "GSM7592798       M\n",
       "GSM7592799       M\n",
       "GSM7592801       F\n",
       "GSM7592802       M\n",
       "GSM7592803       M\n",
       "\n",
       "[1128 rows x 1 columns]"
      ]
     },
     "execution_count": 17,
     "metadata": {},
     "output_type": "execute_result"
    }
   ],
   "source": [
    "# extract the actual sex from the metadata\n",
    "pattern = r\"SEX: (?P<SEX>[^,]+)\"\n",
    "\n",
    "# Apply the regex to the 'characteristics_ch1' column\n",
    "macrophage_data[\"characteristics_ch1\"].str.extract(pattern)"
   ]
  },
  {
   "cell_type": "code",
   "execution_count": 22,
   "metadata": {},
   "outputs": [],
   "source": [
    "# extract the actual sex from the metadata\n",
    "pattern = r\"SEX: (?P<SEX>[^,]+)\"\n",
    "\n",
    "# Apply the regex to the 'characteristics_ch1' column\n",
    "\n",
    "macrophage_data[\"sex\"] = macrophage_data[\"characteristics_ch1\"].str.extract(pattern)\n",
    "macrophage_data = macrophage_data.loc[:, [\"series_id\", \"sex\"]]"
   ]
  },
  {
   "cell_type": "code",
   "execution_count": 25,
   "metadata": {},
   "outputs": [],
   "source": [
    "macrophage_data[\"sampleID\"] = macrophage_data.index\n",
    "sample_counts[\"gene\"] = sample_counts.index\n",
    "\n",
    "# save to disk\n",
    "macrophage_data.to_csv(\n",
    "    \"/rds/user/nh608/hpc-work/oxLDL/sex_inference/mdata_macrophage.tsv\",\n",
    "    sep=\"\\t\",\n",
    "    index=False,\n",
    ")\n",
    "sample_counts.to_csv(\n",
    "    \"/rds/user/nh608/hpc-work/oxLDL/sex_inference/counts_macrophage.tsv\",\n",
    "    sep=\"\\t\",\n",
    "    index=False,\n",
    ")"
   ]
  }
 ],
 "metadata": {
  "kernelspec": {
   "display_name": "Python 3",
   "language": "python",
   "name": "python3"
  },
  "language_info": {
   "codemirror_mode": {
    "name": "ipython",
    "version": 3
   },
   "file_extension": ".py",
   "mimetype": "text/x-python",
   "name": "python",
   "nbconvert_exporter": "python",
   "pygments_lexer": "ipython3",
   "version": "3.11.9"
  }
 },
 "nbformat": 4,
 "nbformat_minor": 2
}
